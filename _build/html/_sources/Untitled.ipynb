{
 "cells": [
  {
   "cell_type": "code",
   "execution_count": 3,
   "id": "0d60061d",
   "metadata": {},
   "outputs": [
    {
     "data": {
      "application/vnd.jupyter.widget-view+json": {
       "model_id": "ab5f17f8f7084b0daac614b6ec397372",
       "version_major": 2,
       "version_minor": 0
      },
      "text/plain": [
       "interactive(children=(FloatSlider(value=135.0, description='$\\\\mu_1$', max=200.0, min=100.0, step=5.0), FloatS…"
      ]
     },
     "metadata": {},
     "output_type": "display_data"
    }
   ],
   "source": [
    "\n",
    "import matplotlib.pyplot as plt\n",
    "import numpy as np\n",
    "import math\n",
    "import ipywidgets as widgets\n",
    "\n",
    "\n",
    "\n",
    "def verenpaine_interaktiivisesti():\n",
    "    interactive_plot = widgets.interactive(verenpaineet, mu1=widgets.FloatSlider(value=135, min=100, max=200, step=5, description = \"$\\mu_1$\"),\n",
    "                                           variance1=widgets.FloatSlider(value=30, min=10, max=100, step=5, description = \"$\\sigma_1$\"), \n",
    "                                           mu2=widgets.FloatSlider(value=145, min=100, max=200, step=5, description = \"$\\mu_2$\"),\n",
    "                                           variance2=widgets.FloatSlider(value=40, min=10, max=100, step=5, description = \"$\\sigma_2$\"))                        \n",
    "    return interactive_plot\n",
    "\n",
    "\n",
    "def verenpaineet(mu1,mu2,variance1,variance2):\n",
    "    x = np.linspace(100, 200, 100)\n",
    "    sigma1 = math.sqrt(variance1)\n",
    "    sigma2 = math.sqrt(variance2)\n",
    "    prob_density1 = 1/(sigma1*np.sqrt(2*np.pi)) * np.exp(-0.5*((x-mu1)/sigma1)**2)\n",
    "    prob_density2 = 1/(sigma2*np.sqrt(2*np.pi)) * np.exp(-0.5*((x-mu2)/sigma2)**2)\n",
    "    plt.plot(x, prob_density1, color=\"red\")\n",
    "    plt.plot(x, prob_density2, color=\"green\")\n",
    "    plt.xlabel(\"Verenpaine\")\n",
    "    plt.show()\n",
    "\n",
    "interaktiivinen_graafi = verenpaine_interaktiivisesti()\n",
    "interaktiivinen_graafi"
   ]
  },
  {
   "cell_type": "code",
   "execution_count": null,
   "id": "08d26a53",
   "metadata": {},
   "outputs": [],
   "source": []
  }
 ],
 "metadata": {
  "kernelspec": {
   "display_name": "Python 3 (ipykernel)",
   "language": "python",
   "name": "python3"
  },
  "language_info": {
   "codemirror_mode": {
    "name": "ipython",
    "version": 3
   },
   "file_extension": ".py",
   "mimetype": "text/x-python",
   "name": "python",
   "nbconvert_exporter": "python",
   "pygments_lexer": "ipython3",
   "version": "3.9.12"
  }
 },
 "nbformat": 4,
 "nbformat_minor": 5
}
